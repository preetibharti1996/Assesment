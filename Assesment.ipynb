{
 "cells": [
  {
   "cell_type": "code",
   "execution_count": 1,
   "id": "e5d729e6",
   "metadata": {},
   "outputs": [
    {
     "name": "stdout",
     "output_type": "stream",
     "text": [
      "Hello\n"
     ]
    }
   ],
   "source": [
    "#1\n",
    "print(\"Hello\")"
   ]
  },
  {
   "cell_type": "code",
   "execution_count": 10,
   "id": "ee1da5e0",
   "metadata": {},
   "outputs": [
    {
     "name": "stdout",
     "output_type": "stream",
     "text": [
      "    * \n",
      "   * * \n",
      "  * * * \n",
      " * * * * \n",
      "* * * * * \n"
     ]
    }
   ],
   "source": [
    "#2\n",
    "for i in range(0,5):\n",
    "    for j in range(0,5-i-1):\n",
    "        print(end=\" \")\n",
    "    for j in range(0,i+1):\n",
    "        print(\"*\",end=\" \")\n",
    "    print()"
   ]
  },
  {
   "cell_type": "code",
   "execution_count": 14,
   "id": "8502e028",
   "metadata": {},
   "outputs": [
    {
     "name": "stdout",
     "output_type": "stream",
     "text": [
      "A\n",
      "B\n",
      "C\n"
     ]
    }
   ],
   "source": [
    "#3\n",
    "print('A\\nB\\nC')"
   ]
  },
  {
   "cell_type": "code",
   "execution_count": 15,
   "id": "bbb9bc71",
   "metadata": {},
   "outputs": [
    {
     "data": {
      "text/plain": [
       "str"
      ]
     },
     "execution_count": 15,
     "metadata": {},
     "output_type": "execute_result"
    }
   ],
   "source": [
    "#4\n",
    "a = \"preeti\"\n",
    "type(a)"
   ]
  },
  {
   "cell_type": "code",
   "execution_count": 16,
   "id": "f9e2baea",
   "metadata": {},
   "outputs": [
    {
     "data": {
      "text/plain": [
       "int"
      ]
     },
     "execution_count": 16,
     "metadata": {},
     "output_type": "execute_result"
    }
   ],
   "source": [
    "b = 5\n",
    "type(b)"
   ]
  },
  {
   "cell_type": "code",
   "execution_count": 17,
   "id": "251b826d",
   "metadata": {},
   "outputs": [
    {
     "data": {
      "text/plain": [
       "float"
      ]
     },
     "execution_count": 17,
     "metadata": {},
     "output_type": "execute_result"
    }
   ],
   "source": [
    "c = 6.9\n",
    "type(c)"
   ]
  },
  {
   "cell_type": "code",
   "execution_count": 20,
   "id": "ad392e0e",
   "metadata": {},
   "outputs": [
    {
     "data": {
      "text/plain": [
       "bool"
      ]
     },
     "execution_count": 20,
     "metadata": {},
     "output_type": "execute_result"
    }
   ],
   "source": [
    "d=True\n",
    "type(d)"
   ]
  },
  {
   "cell_type": "code",
   "execution_count": 22,
   "id": "e5af84ca",
   "metadata": {},
   "outputs": [
    {
     "data": {
      "text/plain": [
       "complex"
      ]
     },
     "execution_count": 22,
     "metadata": {},
     "output_type": "execute_result"
    }
   ],
   "source": [
    "#5\n",
    "comp_var = 5+3j\n",
    "type(comp_var)"
   ]
  },
  {
   "cell_type": "code",
   "execution_count": 23,
   "id": "d9c18aec",
   "metadata": {},
   "outputs": [
    {
     "data": {
      "text/plain": [
       "23"
      ]
     },
     "execution_count": 23,
     "metadata": {},
     "output_type": "execute_result"
    }
   ],
   "source": [
    "#6\n",
    "f = 23.45\n",
    "int(f)"
   ]
  },
  {
   "cell_type": "code",
   "execution_count": 24,
   "id": "687bb6b7",
   "metadata": {},
   "outputs": [
    {
     "data": {
      "text/plain": [
       "'56'"
      ]
     },
     "execution_count": 24,
     "metadata": {},
     "output_type": "execute_result"
    }
   ],
   "source": [
    "#7\n",
    "num = 56\n",
    "str(num)"
   ]
  },
  {
   "cell_type": "code",
   "execution_count": 25,
   "id": "a88c009c",
   "metadata": {},
   "outputs": [
    {
     "data": {
      "text/plain": [
       "51461.777777777774"
      ]
     },
     "execution_count": 25,
     "metadata": {},
     "output_type": "execute_result"
    }
   ],
   "source": [
    "#8\n",
    "145*354-1345/45+(462+23)/3"
   ]
  },
  {
   "cell_type": "code",
   "execution_count": 26,
   "id": "462848c9",
   "metadata": {},
   "outputs": [
    {
     "name": "stdout",
     "output_type": "stream",
     "text": [
      "1587\n"
     ]
    }
   ],
   "source": [
    "#9\n",
    "print(1353 + 234)\n"
   ]
  },
  {
   "cell_type": "code",
   "execution_count": 27,
   "id": "dab93d05",
   "metadata": {},
   "outputs": [
    {
     "name": "stdout",
     "output_type": "stream",
     "text": [
      "2009\n"
     ]
    }
   ],
   "source": [
    "print(2355 - 346)"
   ]
  },
  {
   "cell_type": "code",
   "execution_count": 28,
   "id": "fef56976",
   "metadata": {},
   "outputs": [
    {
     "name": "stdout",
     "output_type": "stream",
     "text": [
      "106938\n"
     ]
    }
   ],
   "source": [
    "print(234 * 457)"
   ]
  },
  {
   "cell_type": "code",
   "execution_count": 29,
   "id": "a89c8536",
   "metadata": {},
   "outputs": [
    {
     "name": "stdout",
     "output_type": "stream",
     "text": [
      "4.166666666666667\n"
     ]
    }
   ],
   "source": [
    "print(25 / 6)"
   ]
  },
  {
   "cell_type": "code",
   "execution_count": 30,
   "id": "1265d8b9",
   "metadata": {},
   "outputs": [
    {
     "name": "stdout",
     "output_type": "stream",
     "text": [
      "1\n"
     ]
    }
   ],
   "source": [
    "print(25 % 6)"
   ]
  },
  {
   "cell_type": "code",
   "execution_count": 31,
   "id": "44497421",
   "metadata": {},
   "outputs": [
    {
     "name": "stdout",
     "output_type": "stream",
     "text": [
      "1185921\n"
     ]
    }
   ],
   "source": [
    "print(33 ** 4)"
   ]
  },
  {
   "cell_type": "code",
   "execution_count": 32,
   "id": "7ff2906f",
   "metadata": {},
   "outputs": [
    {
     "name": "stdout",
     "output_type": "stream",
     "text": [
      "7\n"
     ]
    }
   ],
   "source": [
    "print(45 // 6)"
   ]
  },
  {
   "cell_type": "code",
   "execution_count": 33,
   "id": "84ba4094",
   "metadata": {},
   "outputs": [
    {
     "name": "stdout",
     "output_type": "stream",
     "text": [
      "1024\n"
     ]
    }
   ],
   "source": [
    "print(2 ** 10)"
   ]
  },
  {
   "cell_type": "code",
   "execution_count": 38,
   "id": "245934e6",
   "metadata": {},
   "outputs": [
    {
     "name": "stdout",
     "output_type": "stream",
     "text": [
      "Enter the height of person in cm:155\n",
      "Enter the weight of person in kg:55\n",
      "BMI is: 22.892819979188342\n"
     ]
    }
   ],
   "source": [
    "#10\n",
    "height = float(input(\"Enter the height of person in cm:\"))\n",
    "weight = float(input(\"Enter the weight of person in kg:\"))\n",
    "BMI = weight / (height / 100)**2\n",
    "print(\"BMI is:\",BMI)"
   ]
  },
  {
   "cell_type": "code",
   "execution_count": 39,
   "id": "fab98467",
   "metadata": {},
   "outputs": [
    {
     "data": {
      "text/plain": [
       "False"
      ]
     },
     "execution_count": 39,
     "metadata": {},
     "output_type": "execute_result"
    }
   ],
   "source": [
    "#11\n",
    "(54+34)* 45 == (0.9*2432)/0.9"
   ]
  },
  {
   "cell_type": "code",
   "execution_count": 42,
   "id": "bcebc68c",
   "metadata": {},
   "outputs": [
    {
     "name": "stdout",
     "output_type": "stream",
     "text": [
      "preetiBharti\n"
     ]
    }
   ],
   "source": [
    "#12\n",
    "first_name = \"preeti\"\n",
    "last_name = \"Bharti\"\n",
    "concat = first_name + last_name\n",
    "print(concat)"
   ]
  },
  {
   "cell_type": "code",
   "execution_count": 1,
   "id": "db475cd0",
   "metadata": {},
   "outputs": [
    {
     "name": "stdout",
     "output_type": "stream",
     "text": [
      "34How old are you?\n"
     ]
    }
   ],
   "source": [
    "#13\n",
    "num = 34\n",
    "string ='How old are you?'\n",
    "print(str(num) + string)"
   ]
  },
  {
   "cell_type": "code",
   "execution_count": 46,
   "id": "cb4150ee",
   "metadata": {},
   "outputs": [
    {
     "name": "stdout",
     "output_type": "stream",
     "text": [
      "5 * 1 = 5\n",
      "5 * 2 = 10\n",
      "5 * 3 = 15\n",
      "5 * 4 = 20\n",
      "5 * 5 = 25\n",
      "5 * 6 = 30\n",
      "5 * 7 = 35\n",
      "5 * 8 = 40\n",
      "5 * 9 = 45\n",
      "5 * 10 = 50\n"
     ]
    }
   ],
   "source": [
    "#14\n",
    "num = 5\n",
    "for i in range(1,11):\n",
    "    print(num,\"*\",i,\"=\",num * i)"
   ]
  },
  {
   "cell_type": "code",
   "execution_count": 47,
   "id": "04c4d473",
   "metadata": {},
   "outputs": [
    {
     "name": "stdout",
     "output_type": "stream",
     "text": [
      "The fibonacci series of the numbers is:\n",
      "0\n",
      "1\n",
      "1\n",
      "2\n",
      "3\n",
      "5\n",
      "8\n",
      "13\n",
      "21\n",
      "34\n"
     ]
    }
   ],
   "source": [
    "#15\n",
    "n_terms = 10\n",
    " \n",
    "n_1 = 0  \n",
    "n_2 = 1  \n",
    "count = 0  \n",
    "  \n",
    "if n_terms <= 0:  \n",
    "    print (\"Please enter a positive integer, the given number is not valid\")  \n",
    "\n",
    "elif n_terms == 1:  \n",
    "    print (\"The Fibonacci series of the numbers up to\", n_terms, \": \")  \n",
    "    print(n_1)   \n",
    "else:  \n",
    "    print (\"The fibonacci series of the numbers is:\")  \n",
    "    while count < n_terms:  \n",
    "        print(n_1)  \n",
    "        nth = n_1 + n_2  \n",
    "       \n",
    "        n_1 = n_2  \n",
    "        n_2 = nth  \n",
    "        count += 1  "
   ]
  },
  {
   "cell_type": "code",
   "execution_count": 48,
   "id": "019a87b5",
   "metadata": {},
   "outputs": [
    {
     "name": "stdout",
     "output_type": "stream",
     "text": [
      "Greater =  56\n"
     ]
    }
   ],
   "source": [
    "#16\n",
    "num_1 = 56\n",
    "num_2 = 45\n",
    "if (num_1>num_2):\n",
    "    print(\"Greater = \", num_1)\n",
    "    "
   ]
  },
  {
   "cell_type": "code",
   "execution_count": 55,
   "id": "704674fb",
   "metadata": {},
   "outputs": [
    {
     "name": "stdout",
     "output_type": "stream",
     "text": [
      "Enter a number:65\n",
      "65 is not divisible by 7\n"
     ]
    }
   ],
   "source": [
    "#17\n",
    "num = int(input(\"Enter a number:\"))\n",
    "if (num % 7 == 0):\n",
    "    print(num,\"is divisible by 7\")\n",
    "else:\n",
    "    print(num,\"is not divisible by 7\")"
   ]
  },
  {
   "cell_type": "code",
   "execution_count": 3,
   "id": "6040731c",
   "metadata": {},
   "outputs": [
    {
     "name": "stdout",
     "output_type": "stream",
     "text": [
      "Enter a number: 5\n",
      "The factorial of 5 is 120\n"
     ]
    }
   ],
   "source": [
    "#18\n",
    "num = int(input(\"Enter a number: \"))    \n",
    "factorial = 1    \n",
    "if num < 0:    \n",
    "   print(\" Factorial does not exist for negative numbers\")    \n",
    "elif num == 0:    \n",
    "   print(\"The factorial of 0 is 1\")    \n",
    "else:    \n",
    "   for i in range(1,num + 1):    \n",
    "       factorial = factorial*i    \n",
    "   print(\"The factorial of\",num,\"is\",factorial) "
   ]
  },
  {
   "cell_type": "code",
   "execution_count": 5,
   "id": "ed9bb377",
   "metadata": {},
   "outputs": [
    {
     "name": "stdout",
     "output_type": "stream",
     "text": [
      "Enter an input number:6\n",
      "6 is not a prime number\n"
     ]
    }
   ],
   "source": [
    "#19\n",
    "a = int(input(\"Enter an input number:\"))  \n",
    "if a > 1:  \n",
    "    for j in range(2, int(a/2) + 1):    \n",
    "        if (a % j) == 0:  \n",
    "            print(a, \"is not a prime number\")  \n",
    "            break  \n",
    "    else:  \n",
    "        print(a, \"is a prime number\")  \n",
    "else:  \n",
    "        print(a, \"is not a prime number\")  "
   ]
  },
  {
   "cell_type": "markdown",
   "id": "9ee9b653",
   "metadata": {},
   "source": [
    "# Exercise2"
   ]
  },
  {
   "cell_type": "code",
   "execution_count": 6,
   "id": "22da353a",
   "metadata": {},
   "outputs": [
    {
     "data": {
      "text/plain": [
       "13"
      ]
     },
     "execution_count": 6,
     "metadata": {},
     "output_type": "execute_result"
    }
   ],
   "source": [
    "#1\n",
    "str = \"country india\"\n",
    "len(str)"
   ]
  },
  {
   "cell_type": "code",
   "execution_count": 7,
   "id": "8f71c8bc",
   "metadata": {},
   "outputs": [
    {
     "data": {
      "text/plain": [
       "'co'"
      ]
     },
     "execution_count": 7,
     "metadata": {},
     "output_type": "execute_result"
    }
   ],
   "source": [
    "str[0:2]"
   ]
  },
  {
   "cell_type": "code",
   "execution_count": 8,
   "id": "6f98c91f",
   "metadata": {},
   "outputs": [
    {
     "data": {
      "text/plain": [
       "'Today sunny'"
      ]
     },
     "execution_count": 8,
     "metadata": {},
     "output_type": "execute_result"
    }
   ],
   "source": [
    "#2\n",
    "my_str = 'Today is a sunny day.'\n",
    "my_str[0:5] + \" \" + my_str[11:16]"
   ]
  },
  {
   "cell_type": "code",
   "execution_count": 11,
   "id": "bb20eae8",
   "metadata": {},
   "outputs": [
    {
     "data": {
      "text/plain": [
       "'ay'"
      ]
     },
     "execution_count": 11,
     "metadata": {},
     "output_type": "execute_result"
    }
   ],
   "source": [
    "my_str[18:20]"
   ]
  },
  {
   "cell_type": "code",
   "execution_count": 13,
   "id": "80644aae",
   "metadata": {},
   "outputs": [
    {
     "data": {
      "text/plain": [
       "'ay'"
      ]
     },
     "execution_count": 13,
     "metadata": {},
     "output_type": "execute_result"
    }
   ],
   "source": [
    "my_str[-3:-1]"
   ]
  },
  {
   "cell_type": "code",
   "execution_count": 14,
   "id": "63d4ff79",
   "metadata": {},
   "outputs": [
    {
     "data": {
      "text/plain": [
       "'.yad ynnus a si yadoT'"
      ]
     },
     "execution_count": 14,
     "metadata": {},
     "output_type": "execute_result"
    }
   ],
   "source": [
    "my_str[::-1]"
   ]
  },
  {
   "cell_type": "code",
   "execution_count": 15,
   "id": "cbed2c61",
   "metadata": {},
   "outputs": [],
   "source": [
    "#3\n",
    "mix_list_1 = ['Learn', 24, 'Blue', False, -8]\n",
    "mix_list_2 = [4, 7, 'Summer']"
   ]
  },
  {
   "cell_type": "code",
   "execution_count": 16,
   "id": "f776d196",
   "metadata": {},
   "outputs": [
    {
     "data": {
      "text/plain": [
       "5"
      ]
     },
     "execution_count": 16,
     "metadata": {},
     "output_type": "execute_result"
    }
   ],
   "source": [
    "len(mix_list_1)"
   ]
  },
  {
   "cell_type": "code",
   "execution_count": 18,
   "id": "018a0ff9",
   "metadata": {},
   "outputs": [
    {
     "data": {
      "text/plain": [
       "True"
      ]
     },
     "execution_count": 18,
     "metadata": {},
     "output_type": "execute_result"
    }
   ],
   "source": [
    "24 in mix_list_1"
   ]
  },
  {
   "cell_type": "code",
   "execution_count": 19,
   "id": "405d7606",
   "metadata": {},
   "outputs": [
    {
     "data": {
      "text/plain": [
       "['Learn', 24, 'Blue', False, -8, 4, 7, 'Summer']"
      ]
     },
     "execution_count": 19,
     "metadata": {},
     "output_type": "execute_result"
    }
   ],
   "source": [
    "mix_list_1 + mix_list_2 "
   ]
  },
  {
   "cell_type": "code",
   "execution_count": 20,
   "id": "4bfd386c",
   "metadata": {},
   "outputs": [
    {
     "data": {
      "text/plain": [
       "[4, 7, 'Summer', 4, 7, 'Summer', 4, 7, 'Summer']"
      ]
     },
     "execution_count": 20,
     "metadata": {},
     "output_type": "execute_result"
    }
   ],
   "source": [
    "mix_list_2 * 3"
   ]
  },
  {
   "cell_type": "code",
   "execution_count": 23,
   "id": "8a09ef8c",
   "metadata": {},
   "outputs": [
    {
     "data": {
      "text/plain": [
       "[0, 10, 6, 4]"
      ]
     },
     "execution_count": 23,
     "metadata": {},
     "output_type": "execute_result"
    }
   ],
   "source": [
    "#4\n",
    "num_list_1 = [1, 2, 3, 4]\n",
    "num_list_2 = [0, 5, 2, 1]\n",
    "[x*y for x,y in zip(num_list_1,num_list_2)]"
   ]
  },
  {
   "cell_type": "code",
   "execution_count": 24,
   "id": "134c507c",
   "metadata": {},
   "outputs": [],
   "source": [
    "#5\n",
    "mix_list = ['Python', 1, 2, 3, 'Data', True]"
   ]
  },
  {
   "cell_type": "code",
   "execution_count": 25,
   "id": "fbee9a46",
   "metadata": {},
   "outputs": [
    {
     "data": {
      "text/plain": [
       "'Python'"
      ]
     },
     "execution_count": 25,
     "metadata": {},
     "output_type": "execute_result"
    }
   ],
   "source": [
    "mix_list[0]"
   ]
  },
  {
   "cell_type": "code",
   "execution_count": 26,
   "id": "710a84ed",
   "metadata": {},
   "outputs": [
    {
     "data": {
      "text/plain": [
       "'Data'"
      ]
     },
     "execution_count": 26,
     "metadata": {},
     "output_type": "execute_result"
    }
   ],
   "source": [
    "mix_list[-2]"
   ]
  },
  {
   "cell_type": "code",
   "execution_count": 28,
   "id": "a1bd3cbb",
   "metadata": {},
   "outputs": [
    {
     "data": {
      "text/plain": [
       "['Python', 1, 2]"
      ]
     },
     "execution_count": 28,
     "metadata": {},
     "output_type": "execute_result"
    }
   ],
   "source": [
    "mix_list[0:3]"
   ]
  },
  {
   "cell_type": "code",
   "execution_count": 29,
   "id": "dfd74c6a",
   "metadata": {},
   "outputs": [
    {
     "data": {
      "text/plain": [
       "['Python', 2, 'Data']"
      ]
     },
     "execution_count": 29,
     "metadata": {},
     "output_type": "execute_result"
    }
   ],
   "source": [
    "mix_list[0::2]"
   ]
  },
  {
   "cell_type": "code",
   "execution_count": 1,
   "id": "3c49349a",
   "metadata": {},
   "outputs": [],
   "source": [
    "#6\n",
    "num_list = [4, 5, 7, -2, 0, 1]"
   ]
  },
  {
   "cell_type": "code",
   "execution_count": 2,
   "id": "b8b17594",
   "metadata": {},
   "outputs": [
    {
     "data": {
      "text/plain": [
       "-2"
      ]
     },
     "execution_count": 2,
     "metadata": {},
     "output_type": "execute_result"
    }
   ],
   "source": [
    "min(num_list)"
   ]
  },
  {
   "cell_type": "code",
   "execution_count": 224,
   "id": "291e6eb7",
   "metadata": {},
   "outputs": [
    {
     "data": {
      "text/plain": [
       "7"
      ]
     },
     "execution_count": 224,
     "metadata": {},
     "output_type": "execute_result"
    }
   ],
   "source": [
    "max(num_list)"
   ]
  },
  {
   "cell_type": "code",
   "execution_count": 3,
   "id": "a1ed13e3",
   "metadata": {},
   "outputs": [
    {
     "name": "stdout",
     "output_type": "stream",
     "text": [
      "[-2, 0, 1, 4, 5, 7]\n"
     ]
    }
   ],
   "source": [
    "num_list.sort()\n",
    "print(num_list)"
   ]
  },
  {
   "cell_type": "code",
   "execution_count": 4,
   "id": "6687a306",
   "metadata": {},
   "outputs": [
    {
     "data": {
      "text/plain": [
       "[-2, 0, 1, 4, 5, 7]"
      ]
     },
     "execution_count": 4,
     "metadata": {},
     "output_type": "execute_result"
    }
   ],
   "source": [
    "sorted(num_list)"
   ]
  },
  {
   "cell_type": "code",
   "execution_count": 8,
   "id": "fc95af7f",
   "metadata": {},
   "outputs": [
    {
     "data": {
      "text/plain": [
       "[-2, 0, 1, 4, 7]"
      ]
     },
     "execution_count": 8,
     "metadata": {},
     "output_type": "execute_result"
    }
   ],
   "source": [
    "num_list.copy()"
   ]
  },
  {
   "cell_type": "code",
   "execution_count": 7,
   "id": "94508562",
   "metadata": {},
   "outputs": [
    {
     "ename": "ValueError",
     "evalue": "list.remove(x): x not in list",
     "output_type": "error",
     "traceback": [
      "\u001b[1;31m---------------------------------------------------------------------------\u001b[0m",
      "\u001b[1;31mValueError\u001b[0m                                Traceback (most recent call last)",
      "\u001b[1;32m~\\AppData\\Local\\Temp/ipykernel_14268/2243941606.py\u001b[0m in \u001b[0;36m<module>\u001b[1;34m\u001b[0m\n\u001b[1;32m----> 1\u001b[1;33m \u001b[0mnum_list\u001b[0m\u001b[1;33m.\u001b[0m\u001b[0mremove\u001b[0m\u001b[1;33m(\u001b[0m\u001b[1;36m5\u001b[0m\u001b[1;33m)\u001b[0m\u001b[1;33m\u001b[0m\u001b[1;33m\u001b[0m\u001b[0m\n\u001b[0m",
      "\u001b[1;31mValueError\u001b[0m: list.remove(x): x not in list"
     ]
    }
   ],
   "source": [
    "num_list.remove(5)"
   ]
  },
  {
   "cell_type": "code",
   "execution_count": 69,
   "id": "f213d62f",
   "metadata": {},
   "outputs": [],
   "source": [
    "#7\n",
    "languages_list = ['R', 'Python', 'C', 'Java']"
   ]
  },
  {
   "cell_type": "code",
   "execution_count": 71,
   "id": "292d97fe",
   "metadata": {},
   "outputs": [
    {
     "name": "stdout",
     "output_type": "stream",
     "text": [
      "['R', 'Python', 'C', 'Java', 'Data', 'Data']\n"
     ]
    }
   ],
   "source": [
    "languages_list.append('Data')\n",
    "print(languages_list)"
   ]
  },
  {
   "cell_type": "code",
   "execution_count": 72,
   "id": "11bd7b7b",
   "metadata": {},
   "outputs": [
    {
     "name": "stdout",
     "output_type": "stream",
     "text": [
      "['R', 'Python', 'C', 'Java', 'Data', 'Data', 'Excel', 'Data']\n"
     ]
    }
   ],
   "source": [
    "languages_list.extend(['Excel','Data'])\n",
    "print(languages_list)"
   ]
  },
  {
   "cell_type": "code",
   "execution_count": 75,
   "id": "6a110d16",
   "metadata": {},
   "outputs": [
    {
     "name": "stdout",
     "output_type": "stream",
     "text": [
      "['R', 'Python', 'C++', 'Java', 'Data', 'Data', 'Excel', 'Data']\n"
     ]
    }
   ],
   "source": [
    "languages_list[2] = 'C++'\n",
    "print(languages_list)"
   ]
  },
  {
   "cell_type": "code",
   "execution_count": 79,
   "id": "5e9098b5",
   "metadata": {},
   "outputs": [],
   "source": [
    "#8\n",
    "seasons_list = ['Summer', 'Winter', 'Spring', 'Winter', 'Spring' ,'Summer', 'Spring', 'Summer', 'Winter', 'Summer', 'Spring']"
   ]
  },
  {
   "cell_type": "code",
   "execution_count": 82,
   "id": "5e5e0222",
   "metadata": {},
   "outputs": [
    {
     "data": {
      "text/plain": [
       "3"
      ]
     },
     "execution_count": 82,
     "metadata": {},
     "output_type": "execute_result"
    }
   ],
   "source": [
    "seasons_list.count('Winter')"
   ]
  },
  {
   "cell_type": "code",
   "execution_count": 83,
   "id": "fc920750",
   "metadata": {},
   "outputs": [
    {
     "data": {
      "text/plain": [
       "4"
      ]
     },
     "execution_count": 83,
     "metadata": {},
     "output_type": "execute_result"
    }
   ],
   "source": [
    "seasons_list.count('Summer')"
   ]
  },
  {
   "cell_type": "code",
   "execution_count": 84,
   "id": "c917a2b1",
   "metadata": {},
   "outputs": [
    {
     "data": {
      "text/plain": [
       "4"
      ]
     },
     "execution_count": 84,
     "metadata": {},
     "output_type": "execute_result"
    }
   ],
   "source": [
    "seasons_list.count('Spring')"
   ]
  },
  {
   "cell_type": "code",
   "execution_count": 85,
   "id": "2332864a",
   "metadata": {},
   "outputs": [],
   "source": [
    "#9\n",
    "num_tuple = (4, 4, 8)\n",
    "mix_tuple = 'John', 5, -2"
   ]
  },
  {
   "cell_type": "code",
   "execution_count": 86,
   "id": "7c550253",
   "metadata": {},
   "outputs": [
    {
     "data": {
      "text/plain": [
       "3"
      ]
     },
     "execution_count": 86,
     "metadata": {},
     "output_type": "execute_result"
    }
   ],
   "source": [
    "len(num_tuple)"
   ]
  },
  {
   "cell_type": "code",
   "execution_count": 87,
   "id": "207d527f",
   "metadata": {},
   "outputs": [
    {
     "data": {
      "text/plain": [
       "(4, 4, 8, 'John', 5, -2)"
      ]
     },
     "execution_count": 87,
     "metadata": {},
     "output_type": "execute_result"
    }
   ],
   "source": [
    "num_tuple + mix_tuple"
   ]
  },
  {
   "cell_type": "code",
   "execution_count": 88,
   "id": "cb94d877",
   "metadata": {},
   "outputs": [
    {
     "data": {
      "text/plain": [
       "('John', 5, -2, 'John', 5, -2)"
      ]
     },
     "execution_count": 88,
     "metadata": {},
     "output_type": "execute_result"
    }
   ],
   "source": [
    "mix_tuple * 2"
   ]
  },
  {
   "cell_type": "code",
   "execution_count": 89,
   "id": "fa12ad40",
   "metadata": {},
   "outputs": [],
   "source": [
    "#10\n",
    "mix_tuple = (['a', 1, True], 2, 'Science', -5)"
   ]
  },
  {
   "cell_type": "code",
   "execution_count": 103,
   "id": "7715479c",
   "metadata": {},
   "outputs": [
    {
     "name": "stdout",
     "output_type": "stream",
     "text": [
      "[['a', 1, True], 2, 'Science', -5, 4]\n"
     ]
    }
   ],
   "source": [
    "new_tuple = list(mix_tuple)\n",
    "new_tuple.append(4)\n",
    "print(new_tuple)\n"
   ]
  },
  {
   "cell_type": "code",
   "execution_count": 105,
   "id": "0706a8ca",
   "metadata": {},
   "outputs": [],
   "source": [
    "#11\n",
    "mix_tuple = (['a', 1, True], 2, 'Science', -5)"
   ]
  },
  {
   "cell_type": "code",
   "execution_count": 235,
   "id": "0a3220d2",
   "metadata": {},
   "outputs": [
    {
     "name": "stdout",
     "output_type": "stream",
     "text": [
      "[['a', 1, False], 3, 'Science', -5]\n"
     ]
    }
   ],
   "source": [
    "new_tuple = list(mix_tuple)\n",
    "new_tuple[1] = 3\n",
    "print(new_tuple)"
   ]
  },
  {
   "cell_type": "code",
   "execution_count": 107,
   "id": "59499406",
   "metadata": {},
   "outputs": [
    {
     "name": "stdout",
     "output_type": "stream",
     "text": [
      "[['a', 1, False], 3, 'Science', -5]\n"
     ]
    }
   ],
   "source": [
    "new_tuple[0][2] = False\n",
    "print(new_tuple)"
   ]
  },
  {
   "cell_type": "code",
   "execution_count": 236,
   "id": "9f5f7156",
   "metadata": {},
   "outputs": [],
   "source": [
    "#12\n",
    "num_set = {1, 2, 3, 4, 5, 6}"
   ]
  },
  {
   "cell_type": "code",
   "execution_count": 237,
   "id": "589c9f42",
   "metadata": {},
   "outputs": [
    {
     "name": "stdout",
     "output_type": "stream",
     "text": [
      "{1, 2, 3, 4, 5, 6, 7}\n"
     ]
    }
   ],
   "source": [
    "num_set.add(7)\n",
    "print(num_set)"
   ]
  },
  {
   "cell_type": "code",
   "execution_count": 238,
   "id": "e2ab9331",
   "metadata": {},
   "outputs": [
    {
     "name": "stdout",
     "output_type": "stream",
     "text": [
      "{1, 2, 4, 5, 6, 7}\n"
     ]
    }
   ],
   "source": [
    "num_set.remove(3)\n",
    "print(num_set)"
   ]
  },
  {
   "cell_type": "code",
   "execution_count": 130,
   "id": "ecff050a",
   "metadata": {},
   "outputs": [
    {
     "name": "stdout",
     "output_type": "stream",
     "text": [
      "set()\n"
     ]
    }
   ],
   "source": [
    "num_set.clear()\n",
    "print(num_set)"
   ]
  },
  {
   "cell_type": "code",
   "execution_count": 131,
   "id": "bdfb1678",
   "metadata": {},
   "outputs": [],
   "source": [
    "#13\n",
    "sentence_1 = 'We shall analyse the data using python'\n",
    "sentence_2 = 'Python for data science'"
   ]
  },
  {
   "cell_type": "code",
   "execution_count": 143,
   "id": "f33a2b6a",
   "metadata": {},
   "outputs": [],
   "source": [
    "set_1 = {'We','shall','analyse','the','data','using','python'}\n",
    "set_2 = {'Python','for','data','science'}"
   ]
  },
  {
   "cell_type": "code",
   "execution_count": 185,
   "id": "23fefedd",
   "metadata": {},
   "outputs": [
    {
     "name": "stdout",
     "output_type": "stream",
     "text": [
      "7\n"
     ]
    }
   ],
   "source": [
    "print(len(set_1))"
   ]
  },
  {
   "cell_type": "code",
   "execution_count": 186,
   "id": "54b8ce06",
   "metadata": {},
   "outputs": [
    {
     "name": "stdout",
     "output_type": "stream",
     "text": [
      "4\n"
     ]
    }
   ],
   "source": [
    "print(len(set_2))"
   ]
  },
  {
   "cell_type": "code",
   "execution_count": 163,
   "id": "2827b5be",
   "metadata": {},
   "outputs": [
    {
     "name": "stdout",
     "output_type": "stream",
     "text": [
      "{'data'}\n"
     ]
    }
   ],
   "source": [
    "print(set_1.intersection(set_2))\n"
   ]
  },
  {
   "cell_type": "code",
   "execution_count": 162,
   "id": "9cd1d07b",
   "metadata": {},
   "outputs": [
    {
     "name": "stdout",
     "output_type": "stream",
     "text": [
      "{'shall', 'using', 'for', 'the', 'We', 'science', 'Python', 'analyse', 'python'}\n"
     ]
    }
   ],
   "source": [
    "print(set_1.symmetric_difference(set_2))"
   ]
  },
  {
   "cell_type": "code",
   "execution_count": 138,
   "id": "05988858",
   "metadata": {},
   "outputs": [],
   "source": [
    "#14\n",
    "A = {1, 4, 5, 2, 6, 3, 40, 7, 87, 4, 71}\n",
    "B = {3, 42, 51, 6, 7, 8, 54, 5}"
   ]
  },
  {
   "cell_type": "code",
   "execution_count": 139,
   "id": "053b4f33",
   "metadata": {},
   "outputs": [
    {
     "data": {
      "text/plain": [
       "{1, 2, 3, 4, 5, 6, 7, 8, 40, 42, 51, 54, 71, 87}"
      ]
     },
     "execution_count": 139,
     "metadata": {},
     "output_type": "execute_result"
    }
   ],
   "source": [
    "A.union(B)"
   ]
  },
  {
   "cell_type": "code",
   "execution_count": 140,
   "id": "dd319d0b",
   "metadata": {},
   "outputs": [
    {
     "data": {
      "text/plain": [
       "{3, 5, 6, 7}"
      ]
     },
     "execution_count": 140,
     "metadata": {},
     "output_type": "execute_result"
    }
   ],
   "source": [
    "A.intersection(B)"
   ]
  },
  {
   "cell_type": "code",
   "execution_count": 144,
   "id": "e4a8828b",
   "metadata": {},
   "outputs": [
    {
     "data": {
      "text/plain": [
       "{1, 2, 4, 40, 71, 87}"
      ]
     },
     "execution_count": 144,
     "metadata": {},
     "output_type": "execute_result"
    }
   ],
   "source": [
    "A.difference(B)"
   ]
  },
  {
   "cell_type": "code",
   "execution_count": 145,
   "id": "16fa463d",
   "metadata": {},
   "outputs": [
    {
     "data": {
      "text/plain": [
       "{8, 42, 51, 54}"
      ]
     },
     "execution_count": 145,
     "metadata": {},
     "output_type": "execute_result"
    }
   ],
   "source": [
    "B.difference(A)"
   ]
  },
  {
   "cell_type": "code",
   "execution_count": 146,
   "id": "be203ae7",
   "metadata": {},
   "outputs": [
    {
     "data": {
      "text/plain": [
       "{1, 2, 4, 8, 40, 42, 51, 54, 71, 87}"
      ]
     },
     "execution_count": 146,
     "metadata": {},
     "output_type": "execute_result"
    }
   ],
   "source": [
    "A.symmetric_difference(B)"
   ]
  },
  {
   "cell_type": "code",
   "execution_count": 150,
   "id": "9e14d722",
   "metadata": {},
   "outputs": [
    {
     "name": "stdout",
     "output_type": "stream",
     "text": [
      "{1: 1, 2: 4, 3: 9, 4: 16}\n"
     ]
    }
   ],
   "source": [
    "#15\n",
    "square_dictionary = {1:1, 2:4, 3:9}\n",
    "square_dictionary[4] = 16\n",
    "print(square_dictionary)"
   ]
  },
  {
   "cell_type": "code",
   "execution_count": 153,
   "id": "11395169",
   "metadata": {},
   "outputs": [
    {
     "name": "stdout",
     "output_type": "stream",
     "text": [
      "dict_keys([0, 'x', 1])\n",
      "dict_values([3, 5, 2])\n"
     ]
    }
   ],
   "source": [
    "#16\n",
    "mix_dictionary = {0:3, 'x':5, 1:2}\n",
    "keys = mix_dictionary.keys()\n",
    "print(keys)\n",
    "values = mix_dictionary.values()\n",
    "print(values)"
   ]
  },
  {
   "cell_type": "code",
   "execution_count": 157,
   "id": "5519cd13",
   "metadata": {},
   "outputs": [
    {
     "name": "stdout",
     "output_type": "stream",
     "text": [
      "27\n"
     ]
    }
   ],
   "source": [
    "#17\n",
    "emp_dictionary = {'Weight': 67, 'BMI': 25, 'Age': 27, 'Profession': 'CA'}\n",
    "val = emp_dictionary.get('Age')\n",
    "print(val)"
   ]
  },
  {
   "cell_type": "code",
   "execution_count": 158,
   "id": "92cad457",
   "metadata": {},
   "outputs": [
    {
     "name": "stdout",
     "output_type": "stream",
     "text": [
      "{'a': 1, 'b': 2, 'c': 3, 'd': 4}\n"
     ]
    }
   ],
   "source": [
    "#18\n",
    "#key = ['a','b','c','d']\n",
    "#value = [1, 2, 3, 4]\n",
    "my_dict = {}\n",
    "my_dict['a'] = 1\n",
    "my_dict['b'] = 2\n",
    "my_dict['c'] = 3\n",
    "my_dict['d'] = 4\n",
    "print(my_dict)\n"
   ]
  },
  {
   "cell_type": "code",
   "execution_count": 159,
   "id": "505437ff",
   "metadata": {},
   "outputs": [
    {
     "name": "stdout",
     "output_type": "stream",
     "text": [
      "{'Emp_ID': 'ES001', 'Weight': 67, 'BMI': 25, 'Age': 27, 'Profession': 'CA', 'Country': 'India'}\n"
     ]
    }
   ],
   "source": [
    "#19\n",
    "emp_record = {'Emp_ID': 'ES001', 'Weight': 67, 'BMI': 25, 'Age': 27, 'Profession': 'CA'}\n",
    "emp_record['Country'] = 'India'\n",
    "print(emp_record)"
   ]
  },
  {
   "cell_type": "markdown",
   "id": "43f34ca6",
   "metadata": {},
   "source": [
    "# Exercise3"
   ]
  },
  {
   "cell_type": "code",
   "execution_count": 164,
   "id": "e2bd9265",
   "metadata": {},
   "outputs": [
    {
     "name": "stdout",
     "output_type": "stream",
     "text": [
      "Enter a number:49\n",
      "49 is multiple of 7\n"
     ]
    }
   ],
   "source": [
    "#1\n",
    "num = int(input(\"Enter a number:\"))\n",
    "if (num % 7 == 0):\n",
    "    print(num,\"is multiple of 7\")\n",
    "else:\n",
    "    print(num,\"is not multiple of 7\")"
   ]
  },
  {
   "cell_type": "code",
   "execution_count": 170,
   "id": "f47c45a2",
   "metadata": {},
   "outputs": [
    {
     "name": "stdout",
     "output_type": "stream",
     "text": [
      "Enter a number:45\n",
      "Enter a number:67\n",
      "Maximum =  67.0\n"
     ]
    }
   ],
   "source": [
    "#2\n",
    "num_1 = float(input(\"Enter a number:\"))\n",
    "num_2 = float(input(\"Enter a number:\"))\n",
    "if (num_1>num_2):\n",
    "    print(\"Maximum = \", num_1)\n",
    "else:\n",
    "     print(\"Maximum = \", num_2)"
   ]
  },
  {
   "cell_type": "code",
   "execution_count": 169,
   "id": "723cfbd2",
   "metadata": {},
   "outputs": [
    {
     "name": "stdout",
     "output_type": "stream",
     "text": [
      "Enter a number:0\n",
      "0.0 is Zero\n"
     ]
    }
   ],
   "source": [
    "#3\n",
    "num = float(input(\"Enter a number:\"))\n",
    "if num > 0:\n",
    "    print(num, \"is Positive\")\n",
    "elif num < 0:\n",
    "    print(num, \"is Negative\")\n",
    "else:\n",
    "    print(num, \"is Zero\")"
   ]
  },
  {
   "cell_type": "code",
   "execution_count": null,
   "id": "b46d19da",
   "metadata": {},
   "outputs": [],
   "source": []
  },
  {
   "cell_type": "code",
   "execution_count": null,
   "id": "c8dfdc17",
   "metadata": {},
   "outputs": [],
   "source": []
  },
  {
   "cell_type": "code",
   "execution_count": null,
   "id": "e22154d2",
   "metadata": {},
   "outputs": [],
   "source": []
  },
  {
   "cell_type": "code",
   "execution_count": null,
   "id": "ad886e92",
   "metadata": {},
   "outputs": [],
   "source": []
  },
  {
   "cell_type": "code",
   "execution_count": null,
   "id": "4e242c55",
   "metadata": {},
   "outputs": [],
   "source": []
  },
  {
   "cell_type": "code",
   "execution_count": null,
   "id": "3d6556be",
   "metadata": {},
   "outputs": [],
   "source": []
  },
  {
   "cell_type": "code",
   "execution_count": 171,
   "id": "75ee01ae",
   "metadata": {},
   "outputs": [
    {
     "name": "stdout",
     "output_type": "stream",
     "text": [
      "Enter first number:34\n",
      "Enter second number:56\n",
      "Not Amicable!\n"
     ]
    }
   ],
   "source": [
    "#10\n",
    "x=int(input(\"Enter first number:\"))\n",
    "y=int(input(\"Enter second number:\"))\n",
    "sum1=0\n",
    "sum2=0\n",
    "for i in range(1,x):\n",
    "    if x%i==0:\n",
    "        sum1+=i\n",
    "for j in range(1,y):\n",
    "    if y%j==0:\n",
    "        sum2+=j\n",
    "if(sum1==y and sum2==x):\n",
    "    print('Amicable!')\n",
    "else:\n",
    "    print('Not Amicable!')"
   ]
  },
  {
   "cell_type": "code",
   "execution_count": 173,
   "id": "4d727eea",
   "metadata": {},
   "outputs": [
    {
     "name": "stdout",
     "output_type": "stream",
     "text": [
      "Enter a stringpreeti\n",
      "iteerp\n"
     ]
    }
   ],
   "source": [
    "#11\n",
    "str = input(\"Enter a string\")\n",
    "str_1 = \"\"   \n",
    "for i in str:  \n",
    "    str_1 = i + str_1  \n",
    "print(str_1)  "
   ]
  },
  {
   "cell_type": "code",
   "execution_count": 174,
   "id": "9ea9b452",
   "metadata": {},
   "outputs": [
    {
     "name": "stdout",
     "output_type": "stream",
     "text": [
      "Enter the number of elements to be inserted: 3\n",
      "Enter element: 3\n",
      "Enter element: 6\n",
      "Enter element: 9\n",
      "Average of elements in the list 6.0\n"
     ]
    }
   ],
   "source": [
    "#12\n",
    "n=int(input(\"Enter the number of elements to be inserted: \"))\n",
    "a=[]\n",
    "for i in range(0,n):\n",
    "    elem=int(input(\"Enter element: \"))\n",
    "    a.append(elem)\n",
    "avg=sum(a)/n\n",
    "print(\"Average of elements in the list\",round(avg,2))"
   ]
  },
  {
   "cell_type": "code",
   "execution_count": 175,
   "id": "b6dea1f9",
   "metadata": {},
   "outputs": [
    {
     "name": "stdout",
     "output_type": "stream",
     "text": [
      "Enter the radius of the circle:6\n",
      "Area of circle = 113.03999999999999\n"
     ]
    }
   ],
   "source": [
    "#13\n",
    "PI = 3.14\n",
    "r = float(input(\"Enter the radius of the circle:\"))\n",
    "area = PI * r * r\n",
    "print(\"Area of circle =\",area)"
   ]
  },
  {
   "cell_type": "code",
   "execution_count": 176,
   "id": "e1529a02",
   "metadata": {},
   "outputs": [
    {
     "name": "stdout",
     "output_type": "stream",
     "text": [
      "Enter the principal amount : 500\n",
      "Enter the number of years : 3\n",
      "Enter the rate of interest : 15\n",
      "Simple interest = 225.0\n"
     ]
    }
   ],
   "source": [
    "#14\n",
    "P = float(input(\"Enter the principal amount : \"))\n",
    "N = float(input(\"Enter the number of years : \"))\n",
    "R = float(input(\"Enter the rate of interest : \"))\n",
    "SI = (P * N * R)/100\n",
    "print(\"Simple interest = {}\".format(SI))"
   ]
  },
  {
   "cell_type": "code",
   "execution_count": 178,
   "id": "ef8eff2e",
   "metadata": {},
   "outputs": [
    {
     "name": "stdout",
     "output_type": "stream",
     "text": [
      "[1.0, 1.4142135623730951, 1.7320508075688772, 2.0, 2.23606797749979, 2.449489742783178, 2.6457513110645907, 2.8284271247461903, 3.0, 3.1622776601683795]\n"
     ]
    }
   ],
   "source": [
    "#15\n",
    "lst = [x**0.5 for x in range(1,11)]\n",
    "print(lst)"
   ]
  },
  {
   "cell_type": "code",
   "execution_count": 187,
   "id": "a791b125",
   "metadata": {},
   "outputs": [
    {
     "ename": "SyntaxError",
     "evalue": "invalid syntax (Temp/ipykernel_11340/389902764.py, line 3)",
     "output_type": "error",
     "traceback": [
      "\u001b[1;36m  File \u001b[1;32m\"C:\\Users\\Preeti\\AppData\\Local\\Temp/ipykernel_11340/389902764.py\"\u001b[1;36m, line \u001b[1;32m3\u001b[0m\n\u001b[1;33m    str_list = [for x in str_list if str_list[x] == 'a' or 'A'  or 'e' or 'E' or 'i' or 'I' or 'o' or 'O' or 'u' or 'U'\u001b[0m\n\u001b[1;37m                ^\u001b[0m\n\u001b[1;31mSyntaxError\u001b[0m\u001b[1;31m:\u001b[0m invalid syntax\n"
     ]
    }
   ],
   "source": [
    "#16\n",
    "str_list = input(\"Enter a sentence:\")\n",
    "str_list = [for x in str_list if str_list[x] == 'a' or 'A'  or 'e' or 'E' or 'i' or 'I' or 'o' or 'O' or 'u' or 'U'\n",
    "            print(number_list)"
   ]
  },
  {
   "cell_type": "code",
   "execution_count": 210,
   "id": "6a6c2c20",
   "metadata": {},
   "outputs": [
    {
     "name": "stdout",
     "output_type": "stream",
     "text": [
      "{2: 'Mohit', 4: 'Imran'}\n"
     ]
    }
   ],
   "source": [
    "#17\n",
    "dictOfNames = {1:'Aman', 2:'Mohit', 3:'Gauri', 4:'Imran', 5:'Roma'}\n",
    "newDict = {key:value for (key,value) in dictOfNames.items() if key % 2 == 0}\n",
    "print(newDict)"
   ]
  },
  {
   "cell_type": "code",
   "execution_count": 192,
   "id": "a028c42f",
   "metadata": {},
   "outputs": [
    {
     "name": "stdout",
     "output_type": "stream",
     "text": [
      "even_lst = [0, 2, 4, 6, 8, 10, 12, 14, 16, 18]\n",
      "odd_lst =  [1, 3, 5, 7, 9, 11, 13, 15, 17, 19]\n"
     ]
    }
   ],
   "source": [
    "#18\n",
    "even_lst = [x for x in range(20) if x % 2 == 0]\n",
    "print(\"even_lst =\", even_lst )\n",
    "odd_lst = [x for x in range(20) if x % 2 != 0]\n",
    "print(\"odd_lst = \",odd_lst)"
   ]
  },
  {
   "cell_type": "code",
   "execution_count": 195,
   "id": "c389bac7",
   "metadata": {},
   "outputs": [
    {
     "name": "stdout",
     "output_type": "stream",
     "text": [
      "[6, 12, 18, 24, 30, 36, 42, 48, 54, 60, 66, 72, 78, 84, 90, 96]\n"
     ]
    }
   ],
   "source": [
    "#19\n",
    "lst = [x for x in range(1,100) if x % 2 == 0 and x % 3 == 0]\n",
    "print(lst)"
   ]
  },
  {
   "cell_type": "code",
   "execution_count": 201,
   "id": "6f8203e9",
   "metadata": {},
   "outputs": [
    {
     "name": "stdout",
     "output_type": "stream",
     "text": [
      "{1: 1, 2: 8, 3: 27, 4: 64, 5: 125, 6: 216, 7: 343, 8: 512, 9: 729, 10: 1000}\n"
     ]
    }
   ],
   "source": [
    "#20\n",
    "new_dict_comp = {n:n**3 for n in range(1,11)}\n",
    "print(new_dict_comp)"
   ]
  },
  {
   "cell_type": "code",
   "execution_count": 203,
   "id": "f280f750",
   "metadata": {},
   "outputs": [
    {
     "name": "stdout",
     "output_type": "stream",
     "text": [
      "Enter a string:preeti\n",
      "['p', 'r', 'e', 'e', 't', 'i']\n"
     ]
    }
   ],
   "source": [
    "#21\n",
    "string = input(\"Enter a string:\")\n",
    "lst = [x for x in string]\n",
    "print(lst)"
   ]
  },
  {
   "cell_type": "code",
   "execution_count": null,
   "id": "9c44d248",
   "metadata": {},
   "outputs": [],
   "source": []
  },
  {
   "cell_type": "code",
   "execution_count": 204,
   "id": "fb40e19d",
   "metadata": {},
   "outputs": [
    {
     "name": "stdout",
     "output_type": "stream",
     "text": [
      "[[1, 3, 5, 7], [2, 4, 6, 8]]\n"
     ]
    }
   ],
   "source": [
    "#23\n",
    "M = [[1,2],\n",
    "     [3,4],\n",
    "     [5,6],\n",
    "     [7,8]]\n",
    "MT = [[row[i] for row in M] for i in range(2)]\n",
    "print(MT)"
   ]
  },
  {
   "cell_type": "markdown",
   "id": "dc407a63",
   "metadata": {},
   "source": [
    "# Exercise4"
   ]
  },
  {
   "cell_type": "code",
   "execution_count": 215,
   "id": "8b5e9173",
   "metadata": {},
   "outputs": [
    {
     "data": {
      "text/plain": [
       "100.25"
      ]
     },
     "execution_count": 215,
     "metadata": {},
     "output_type": "execute_result"
    }
   ],
   "source": [
    "154 + (10**2)/2*25-1303.75"
   ]
  },
  {
   "cell_type": "code",
   "execution_count": 216,
   "id": "97f6d3d8",
   "metadata": {},
   "outputs": [
    {
     "data": {
      "text/plain": [
       "['Hi', 'there', 'Sam!']"
      ]
     },
     "execution_count": 216,
     "metadata": {},
     "output_type": "execute_result"
    }
   ],
   "source": [
    "s = \"Hi there Sam!\"\n",
    "s.split()"
   ]
  },
  {
   "cell_type": "code",
   "execution_count": 221,
   "id": "9263239d",
   "metadata": {},
   "outputs": [
    {
     "data": {
      "text/plain": [
       "'hello'"
      ]
     },
     "execution_count": 221,
     "metadata": {},
     "output_type": "execute_result"
    }
   ],
   "source": [
    "lst = [1,2,[3,4],[5,[100,200,['hello']],23,11],1,7]\n",
    "lst[3][1][2][0]"
   ]
  },
  {
   "cell_type": "code",
   "execution_count": 223,
   "id": "72011be7",
   "metadata": {},
   "outputs": [
    {
     "data": {
      "text/plain": [
       "'hello'"
      ]
     },
     "execution_count": 223,
     "metadata": {},
     "output_type": "execute_result"
    }
   ],
   "source": [
    "d = {'k1':[1,2,3,{'tricky':['oh','man','inception',{'target':[1,2,3,'hello']}]}]}\n",
    "d['k1'][3]['tricky'][3]['target'][3]"
   ]
  },
  {
   "cell_type": "code",
   "execution_count": 10,
   "id": "2b333077",
   "metadata": {},
   "outputs": [
    {
     "data": {
      "text/plain": [
       "'1.20.3'"
      ]
     },
     "execution_count": 10,
     "metadata": {},
     "output_type": "execute_result"
    }
   ],
   "source": [
    "import numpy\n",
    "numpy.__version__"
   ]
  },
  {
   "cell_type": "code",
   "execution_count": null,
   "id": "acf47fe9",
   "metadata": {},
   "outputs": [],
   "source": []
  },
  {
   "cell_type": "code",
   "execution_count": null,
   "id": "12500bcd",
   "metadata": {},
   "outputs": [],
   "source": []
  }
 ],
 "metadata": {
  "kernelspec": {
   "display_name": "Python 3 (ipykernel)",
   "language": "python",
   "name": "python3"
  },
  "language_info": {
   "codemirror_mode": {
    "name": "ipython",
    "version": 3
   },
   "file_extension": ".py",
   "mimetype": "text/x-python",
   "name": "python",
   "nbconvert_exporter": "python",
   "pygments_lexer": "ipython3",
   "version": "3.9.7"
  }
 },
 "nbformat": 4,
 "nbformat_minor": 5
}
